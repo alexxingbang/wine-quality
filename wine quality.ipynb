{
 "cells": [
  {
   "cell_type": "markdown",
   "id": "903469ec",
   "metadata": {},
   "source": [
    "# use wine data to predict its quality\n",
    "win condition i set is to predicted with 90% correct rate"
   ]
  },
  {
   "cell_type": "markdown",
   "id": "932c5da7",
   "metadata": {},
   "source": [
    "## load data and packages"
   ]
  },
  {
   "cell_type": "code",
   "execution_count": 1,
   "id": "1a01e90c",
   "metadata": {},
   "outputs": [],
   "source": [
    "# NumPy for numerical computing\n",
    "import numpy as np\n",
    "\n",
    "# Pandas for DataFrames\n",
    "import pandas as pd\n",
    "pd.set_option('display.max_columns', 100)\n",
    "\n",
    "# Matplotlib for visualization\n",
    "from matplotlib import pyplot as plt\n",
    "# display plots in the notebook\n",
    "%matplotlib inline \n",
    "\n",
    "# Seaborn for easier visualization\n",
    "import seaborn as sns\n",
    "sns.set_style('darkgrid')\n",
    "\n",
    "from sklearn.linear_model import Lasso, Ridge, ElasticNet\n",
    "\n",
    "# Import Tree Ensemble algos\n",
    "from sklearn.ensemble import RandomForestRegressor, GradientBoostingRegressor\n",
    "\n",
    "from sklearn.model_selection import train_test_split\n",
    "\n",
    "from sklearn.pipeline import make_pipeline\n",
    "from sklearn.preprocessing import StandardScaler\n",
    "\n",
    "from sklearn.model_selection import GridSearchCV\n",
    "\n",
    "from sklearn.metrics import r2_score\n",
    "from sklearn.metrics import mean_absolute_error\n",
    "from sklearn.metrics import mean_squared_error\n",
    "\n",
    "\n",
    "# classification Algorithms\n",
    "from sklearn.linear_model import LogisticRegression\n",
    "from sklearn.ensemble import RandomForestClassifier, GradientBoostingClassifier\n",
    "\n",
    "from sklearn.metrics import roc_curve, roc_auc_score\n",
    "#roc_auc_score(y, pred)"
   ]
  },
  {
   "cell_type": "markdown",
   "id": "999512a1",
   "metadata": {},
   "source": [
    "## examine data and didnt find much to revise"
   ]
  },
  {
   "cell_type": "code",
   "execution_count": 3,
   "id": "935eb43c",
   "metadata": {},
   "outputs": [],
   "source": [
    "df = pd.read_csv('/Users/alex/Desktop/EDS/Capstone/winequality/winequality-red.csv')"
   ]
  },
  {
   "cell_type": "code",
   "execution_count": 7,
   "id": "8fb9e4b8",
   "metadata": {},
   "outputs": [],
   "source": [
    "df = pd.read_csv('/Users/alex/Desktop/EDS/Capstone/winequality/winequality-red.csv', sep=';')"
   ]
  },
  {
   "cell_type": "code",
   "execution_count": 9,
   "id": "b07a2f0f",
   "metadata": {},
   "outputs": [
    {
     "data": {
      "text/plain": [
       "(1599, 12)"
      ]
     },
     "execution_count": 9,
     "metadata": {},
     "output_type": "execute_result"
    }
   ],
   "source": [
    "df.shape"
   ]
  },
  {
   "cell_type": "code",
   "execution_count": 10,
   "id": "8750e555",
   "metadata": {},
   "outputs": [
    {
     "data": {
      "text/html": [
       "<div>\n",
       "<style scoped>\n",
       "    .dataframe tbody tr th:only-of-type {\n",
       "        vertical-align: middle;\n",
       "    }\n",
       "\n",
       "    .dataframe tbody tr th {\n",
       "        vertical-align: top;\n",
       "    }\n",
       "\n",
       "    .dataframe thead th {\n",
       "        text-align: right;\n",
       "    }\n",
       "</style>\n",
       "<table border=\"1\" class=\"dataframe\">\n",
       "  <thead>\n",
       "    <tr style=\"text-align: right;\">\n",
       "      <th></th>\n",
       "      <th>fixed acidity</th>\n",
       "      <th>volatile acidity</th>\n",
       "      <th>citric acid</th>\n",
       "      <th>residual sugar</th>\n",
       "      <th>chlorides</th>\n",
       "      <th>free sulfur dioxide</th>\n",
       "      <th>total sulfur dioxide</th>\n",
       "      <th>density</th>\n",
       "      <th>pH</th>\n",
       "      <th>sulphates</th>\n",
       "      <th>alcohol</th>\n",
       "      <th>quality</th>\n",
       "    </tr>\n",
       "  </thead>\n",
       "  <tbody>\n",
       "    <tr>\n",
       "      <th>0</th>\n",
       "      <td>7.4</td>\n",
       "      <td>0.70</td>\n",
       "      <td>0.00</td>\n",
       "      <td>1.9</td>\n",
       "      <td>0.076</td>\n",
       "      <td>11.0</td>\n",
       "      <td>34.0</td>\n",
       "      <td>0.9978</td>\n",
       "      <td>3.51</td>\n",
       "      <td>0.56</td>\n",
       "      <td>9.4</td>\n",
       "      <td>5</td>\n",
       "    </tr>\n",
       "    <tr>\n",
       "      <th>1</th>\n",
       "      <td>7.8</td>\n",
       "      <td>0.88</td>\n",
       "      <td>0.00</td>\n",
       "      <td>2.6</td>\n",
       "      <td>0.098</td>\n",
       "      <td>25.0</td>\n",
       "      <td>67.0</td>\n",
       "      <td>0.9968</td>\n",
       "      <td>3.20</td>\n",
       "      <td>0.68</td>\n",
       "      <td>9.8</td>\n",
       "      <td>5</td>\n",
       "    </tr>\n",
       "    <tr>\n",
       "      <th>2</th>\n",
       "      <td>7.8</td>\n",
       "      <td>0.76</td>\n",
       "      <td>0.04</td>\n",
       "      <td>2.3</td>\n",
       "      <td>0.092</td>\n",
       "      <td>15.0</td>\n",
       "      <td>54.0</td>\n",
       "      <td>0.9970</td>\n",
       "      <td>3.26</td>\n",
       "      <td>0.65</td>\n",
       "      <td>9.8</td>\n",
       "      <td>5</td>\n",
       "    </tr>\n",
       "    <tr>\n",
       "      <th>3</th>\n",
       "      <td>11.2</td>\n",
       "      <td>0.28</td>\n",
       "      <td>0.56</td>\n",
       "      <td>1.9</td>\n",
       "      <td>0.075</td>\n",
       "      <td>17.0</td>\n",
       "      <td>60.0</td>\n",
       "      <td>0.9980</td>\n",
       "      <td>3.16</td>\n",
       "      <td>0.58</td>\n",
       "      <td>9.8</td>\n",
       "      <td>6</td>\n",
       "    </tr>\n",
       "    <tr>\n",
       "      <th>4</th>\n",
       "      <td>7.4</td>\n",
       "      <td>0.70</td>\n",
       "      <td>0.00</td>\n",
       "      <td>1.9</td>\n",
       "      <td>0.076</td>\n",
       "      <td>11.0</td>\n",
       "      <td>34.0</td>\n",
       "      <td>0.9978</td>\n",
       "      <td>3.51</td>\n",
       "      <td>0.56</td>\n",
       "      <td>9.4</td>\n",
       "      <td>5</td>\n",
       "    </tr>\n",
       "  </tbody>\n",
       "</table>\n",
       "</div>"
      ],
      "text/plain": [
       "   fixed acidity  volatile acidity  citric acid  residual sugar  chlorides  \\\n",
       "0            7.4              0.70         0.00             1.9      0.076   \n",
       "1            7.8              0.88         0.00             2.6      0.098   \n",
       "2            7.8              0.76         0.04             2.3      0.092   \n",
       "3           11.2              0.28         0.56             1.9      0.075   \n",
       "4            7.4              0.70         0.00             1.9      0.076   \n",
       "\n",
       "   free sulfur dioxide  total sulfur dioxide  density    pH  sulphates  \\\n",
       "0                 11.0                  34.0   0.9978  3.51       0.56   \n",
       "1                 25.0                  67.0   0.9968  3.20       0.68   \n",
       "2                 15.0                  54.0   0.9970  3.26       0.65   \n",
       "3                 17.0                  60.0   0.9980  3.16       0.58   \n",
       "4                 11.0                  34.0   0.9978  3.51       0.56   \n",
       "\n",
       "   alcohol  quality  \n",
       "0      9.4        5  \n",
       "1      9.8        5  \n",
       "2      9.8        5  \n",
       "3      9.8        6  \n",
       "4      9.4        5  "
      ]
     },
     "execution_count": 10,
     "metadata": {},
     "output_type": "execute_result"
    }
   ],
   "source": [
    "df.head()"
   ]
  },
  {
   "cell_type": "code",
   "execution_count": 12,
   "id": "6ce622cf",
   "metadata": {},
   "outputs": [
    {
     "data": {
      "text/plain": [
       "fixed acidity           0\n",
       "volatile acidity        0\n",
       "citric acid             0\n",
       "residual sugar          0\n",
       "chlorides               0\n",
       "free sulfur dioxide     0\n",
       "total sulfur dioxide    0\n",
       "density                 0\n",
       "pH                      0\n",
       "sulphates               0\n",
       "alcohol                 0\n",
       "quality                 0\n",
       "dtype: int64"
      ]
     },
     "execution_count": 12,
     "metadata": {},
     "output_type": "execute_result"
    }
   ],
   "source": [
    "df.isna().sum()"
   ]
  },
  {
   "cell_type": "code",
   "execution_count": 21,
   "id": "383a0e73",
   "metadata": {},
   "outputs": [
    {
     "data": {
      "image/png": "[encoded data removed]",
      "text/plain": [
       "<Figure size 720x720 with 12 Axes>"
      ]
     },
     "metadata": {},
     "output_type": "display_data"
    }
   ],
   "source": [
    "df.hist(figsize=(10,10), xrot=-45)\n",
    "plt.show()"
   ]
  },
  {
   "cell_type": "code",
   "execution_count": 22,
   "id": "7be7d7dd",
   "metadata": {},
   "outputs": [
    {
     "data": {
      "text/plain": [
       "fixed acidity           float64\n",
       "volatile acidity        float64\n",
       "citric acid             float64\n",
       "residual sugar          float64\n",
       "chlorides               float64\n",
       "free sulfur dioxide     float64\n",
       "total sulfur dioxide    float64\n",
       "density                 float64\n",
       "pH                      float64\n",
       "sulphates               float64\n",
       "alcohol                 float64\n",
       "quality                   int64\n",
       "dtype: object"
      ]
     },
     "execution_count": 22,
     "metadata": {},
     "output_type": "execute_result"
    }
   ],
   "source": [
    "df.dtypes #all numeric with no missing"
   ]
  },
  {
   "cell_type": "code",
   "execution_count": 25,
   "id": "da66241d",
   "metadata": {},
   "outputs": [
    {
     "data": {
      "text/plain": [
       "array([5, 6, 7, 4, 8, 3])"
      ]
     },
     "execution_count": 25,
     "metadata": {},
     "output_type": "execute_result"
    },
    {
     "data": {
      "image/png": "[encoded data removed]",
      "text/plain": [
       "<Figure size 432x288 with 1 Axes>"
      ]
     },
     "metadata": {},
     "output_type": "display_data"
    }
   ],
   "source": [
    "sns.violinplot(x=df.quality)\n",
    "df.quality.unique()"
   ]
  },
  {
   "cell_type": "markdown",
   "id": "fe5f8365",
   "metadata": {},
   "source": [
    "## split data, pipelines and modeal hyperparameters, set all 5 models"
   ]
  },
  {
   "cell_type": "code",
   "execution_count": 29,
   "id": "c9501fb2",
   "metadata": {},
   "outputs": [],
   "source": [
    "X = df.drop('quality', axis=1)\n",
    "y = df.quality"
   ]
  },
  {
   "cell_type": "code",
   "execution_count": 71,
   "id": "d9ea95d2",
   "metadata": {},
   "outputs": [],
   "source": [
    "X_train, X_test, y_train, y_test = train_test_split(X,y, \n",
    "                                            test_size=0.2, \n",
    "                                                random_state=1234, stratify =y)"
   ]
  },
  {
   "cell_type": "code",
   "execution_count": 72,
   "id": "8fc4088e",
   "metadata": {},
   "outputs": [
    {
     "name": "stdout",
     "output_type": "stream",
     "text": [
      "(1279, 11)\n",
      "(320,)\n"
     ]
    }
   ],
   "source": [
    "print(X_train.shape)\n",
    "print(y_test.shape)"
   ]
  },
  {
   "cell_type": "code",
   "execution_count": null,
   "id": "48674754",
   "metadata": {},
   "outputs": [],
   "source": [
    "X_test_new = scaler.transform(X_test)"
   ]
  },
  {
   "cell_type": "code",
   "execution_count": 73,
   "id": "4820430f",
   "metadata": {},
   "outputs": [],
   "source": [
    "# Create pipelines dictionary\n",
    "pipelines = {\n",
    "    'lasso' : make_pipeline(StandardScaler(), Lasso(random_state=123)),\n",
    "    'ridge' : make_pipeline(StandardScaler(), Ridge(random_state=123)), \n",
    "    'enet' : make_pipeline(StandardScaler(), ElasticNet(random_state=123)),\n",
    "    'rf': make_pipeline(StandardScaler(), RandomForestRegressor(random_state=123)),\n",
    "    'gb': make_pipeline(StandardScaler(), GradientBoostingRegressor(random_state=123)),\n",
    "}\n"
   ]
  },
  {
   "cell_type": "code",
   "execution_count": 107,
   "id": "475ee724",
   "metadata": {},
   "outputs": [],
   "source": [
    "# set hyperparameters\n",
    "# Lasso hyperparameters\n",
    "lasso_hyperparameters = { \n",
    "    'lasso__alpha' : [0.001, 0.005, 0.01, 0.05, 0.1, 0.5, 1, 5, 10] \n",
    "}\n",
    "\n",
    "# Ridge hyperparameters\n",
    "ridge_hyperparameters = { \n",
    "    'ridge__alpha': [0.001, 0.005, 0.01, 0.05, 0.1, 0.5, 1, 5, 10]  \n",
    "}\n",
    "#need to be dict!!!\n",
    "enet_hyperparameters = { \n",
    "    'elasticnet__alpha': [0.001, 0.005, 0.01, 0.05, 0.1, 0.5, 1, 5, 10],                        \n",
    "    'elasticnet__l1_ratio' : [0.1, 0.3, 0.5, 0.7, 0.9]  \n",
    "}\n",
    "rf_hyperparameters = { \n",
    "    'randomforestregressor__n_estimators': [100, 200],\n",
    "    'randomforestregressor__max_features': ['auto','log2', 'sqrt', 0.33],\n",
    "    'randomforestregressor__max_depth': [None, 5, 3, 1]\n",
    "}\n",
    "gb_hyperparameters = {\n",
    "    'gradientboostingregressor__n_estimators': [100, 200],\n",
    "    'gradientboostingregressor__learning_rate': [0.05, 0.1, 0.2],\n",
    "    'gradientboostingregressor__max_depth': [1, 3, 5]\n",
    "}"
   ]
  },
  {
   "cell_type": "code",
   "execution_count": 108,
   "id": "e7d1ba16",
   "metadata": {},
   "outputs": [],
   "source": [
    "hyperparameters = {\n",
    "    'rf' : rf_hyperparameters,\n",
    "    'gb' : gb_hyperparameters,\n",
    "    'lasso' : lasso_hyperparameters,\n",
    "    'ridge' : ridge_hyperparameters,\n",
    "    'enet' : enet_hyperparameters\n",
    "}"
   ]
  },
  {
   "cell_type": "code",
   "execution_count": 109,
   "id": "fbc9859c",
   "metadata": {},
   "outputs": [
    {
     "name": "stdout",
     "output_type": "stream",
     "text": [
      "lasso <class 'sklearn.pipeline.Pipeline'>\n",
      "ridge <class 'sklearn.pipeline.Pipeline'>\n",
      "enet <class 'sklearn.pipeline.Pipeline'>\n",
      "rf <class 'sklearn.pipeline.Pipeline'>\n",
      "gb <class 'sklearn.pipeline.Pipeline'>\n"
     ]
    }
   ],
   "source": [
    "for key, value in pipelines.items():\n",
    "    print( key, type(value) )"
   ]
  },
  {
   "cell_type": "code",
   "execution_count": 110,
   "id": "88a09d89",
   "metadata": {},
   "outputs": [
    {
     "name": "stdout",
     "output_type": "stream",
     "text": [
      "enet was found in hyperparameters, and it is a grid.\n",
      "gb was found in hyperparameters, and it is a grid.\n",
      "ridge was found in hyperparameters, and it is a grid.\n",
      "rf was found in hyperparameters, and it is a grid.\n",
      "lasso was found in hyperparameters, and it is a grid.\n"
     ]
    }
   ],
   "source": [
    "for key in ['enet', 'gb', 'ridge', 'rf', 'lasso']:\n",
    "    if key in hyperparameters:\n",
    "        if type(hyperparameters[key]) is dict:\n",
    "            print( key, 'was found in hyperparameters, and it is a grid.' )\n",
    "        else:\n",
    "            print( key, 'was found in hyperparameters, but it is not a grid.' )\n",
    "    else:\n",
    "        print( key, 'was not found in hyperparameters')"
   ]
  },
  {
   "cell_type": "markdown",
   "id": "cd3f9da8",
   "metadata": {},
   "source": [
    "## tuning hyperparameters"
   ]
  },
  {
   "cell_type": "code",
   "execution_count": 111,
   "id": "af7ab332",
   "metadata": {},
   "outputs": [
    {
     "name": "stdout",
     "output_type": "stream",
     "text": [
      "lasso has been fitted.\n",
      "ridge has been fitted.\n",
      "enet has been fitted.\n",
      "rf has been fitted.\n",
      "gb has been fitted.\n"
     ]
    }
   ],
   "source": [
    "fitted_model={}\n",
    "\n",
    "for name, pipeline in pipelines.items():\n",
    "    model = GridSearchCV(pipeline, hyperparameters[name], n_jobs=-1, cv=10)\n",
    "    \n",
    "    model.fit(X_train, y_train)\n",
    "    fitted_model[name] = model\n",
    "    \n",
    "    print(name, 'has been fitted.')"
   ]
  },
  {
   "cell_type": "code",
   "execution_count": 112,
   "id": "1c62630c",
   "metadata": {},
   "outputs": [
    {
     "data": {
      "text/plain": [
       "{'lasso': GridSearchCV(cv=10,\n",
       "              estimator=Pipeline(steps=[('standardscaler', StandardScaler()),\n",
       "                                        ('lasso', Lasso(random_state=123))]),\n",
       "              n_jobs=-1,\n",
       "              param_grid={'lasso__alpha': [0.001, 0.005, 0.01, 0.05, 0.1, 0.5, 1,\n",
       "                                           5, 10]}),\n",
       " 'ridge': GridSearchCV(cv=10,\n",
       "              estimator=Pipeline(steps=[('standardscaler', StandardScaler()),\n",
       "                                        ('ridge', Ridge(random_state=123))]),\n",
       "              n_jobs=-1,\n",
       "              param_grid={'ridge__alpha': [0.001, 0.005, 0.01, 0.05, 0.1, 0.5, 1,\n",
       "                                           5, 10]}),\n",
       " 'enet': GridSearchCV(cv=10,\n",
       "              estimator=Pipeline(steps=[('standardscaler', StandardScaler()),\n",
       "                                        ('elasticnet',\n",
       "                                         ElasticNet(random_state=123))]),\n",
       "              n_jobs=-1,\n",
       "              param_grid={'elasticnet__alpha': [0.001, 0.005, 0.01, 0.05, 0.1,\n",
       "                                                0.5, 1, 5, 10],\n",
       "                          'elasticnet__l1_ratio': [0.1, 0.3, 0.5, 0.7, 0.9]}),\n",
       " 'rf': GridSearchCV(cv=10,\n",
       "              estimator=Pipeline(steps=[('standardscaler', StandardScaler()),\n",
       "                                        ('randomforestregressor',\n",
       "                                         RandomForestRegressor(random_state=123))]),\n",
       "              n_jobs=-1,\n",
       "              param_grid={'randomforestregressor__max_depth': [None, 5, 3, 1],\n",
       "                          'randomforestregressor__max_features': ['auto', 'log2',\n",
       "                                                                  'sqrt', 0.33],\n",
       "                          'randomforestregressor__n_estimators': [100, 200]}),\n",
       " 'gb': GridSearchCV(cv=10,\n",
       "              estimator=Pipeline(steps=[('standardscaler', StandardScaler()),\n",
       "                                        ('gradientboostingregressor',\n",
       "                                         GradientBoostingRegressor(random_state=123))]),\n",
       "              n_jobs=-1,\n",
       "              param_grid={'gradientboostingregressor__learning_rate': [0.05, 0.1,\n",
       "                                                                       0.2],\n",
       "                          'gradientboostingregressor__max_depth': [1, 3, 5],\n",
       "                          'gradientboostingregressor__n_estimators': [100, 200]})}"
      ]
     },
     "execution_count": 112,
     "metadata": {},
     "output_type": "execute_result"
    }
   ],
   "source": [
    "fitted_model"
   ]
  },
  {
   "cell_type": "markdown",
   "id": "dc8c0173",
   "metadata": {},
   "source": [
    "## select best method"
   ]
  },
  {
   "cell_type": "code",
   "execution_count": 113,
   "id": "ce1e4437",
   "metadata": {},
   "outputs": [
    {
     "name": "stdout",
     "output_type": "stream",
     "text": [
      "lasso {'lasso__alpha': 0.01}\n",
      "ridge {'ridge__alpha': 10}\n",
      "enet {'elasticnet__alpha': 0.01, 'elasticnet__l1_ratio': 0.9}\n",
      "rf {'randomforestregressor__max_depth': None, 'randomforestregressor__max_features': 'log2', 'randomforestregressor__n_estimators': 200}\n",
      "gb {'gradientboostingregressor__learning_rate': 0.05, 'gradientboostingregressor__max_depth': 5, 'gradientboostingregressor__n_estimators': 200}\n"
     ]
    }
   ],
   "source": [
    "\n",
    "for name, model in fitted_model.items():\n",
    "    print(name, model.best_params_ )"
   ]
  },
  {
   "cell_type": "markdown",
   "id": "d9113dfa",
   "metadata": {},
   "source": [
    "## RF is the best model\n",
    " Now fit all models to the test data to calculate MAE and R square"
   ]
  },
  {
   "cell_type": "markdown",
   "id": "952da603",
   "metadata": {},
   "source": [
    "## predict(X) in GridSearchCV Call predict on the estimator with the best found parameters."
   ]
  },
  {
   "cell_type": "code",
   "execution_count": 114,
   "id": "a1c5989e",
   "metadata": {},
   "outputs": [
    {
     "name": "stdout",
     "output_type": "stream",
     "text": [
      "5.656920521009069\n",
      "lasso\n",
      "MAE 0.5115777755086934\n",
      "MSE 0.43408289312811155\n",
      "R2 0.32728845183850985\n",
      "-----------\n",
      "5.660103128762153\n",
      "ridge\n",
      "MAE 0.5117439308282067\n",
      "MSE 0.43695237236572754\n",
      "R2 0.32284153201993915\n",
      "-----------\n",
      "5.657224527411688\n",
      "enet\n",
      "MAE 0.5115241837292808\n",
      "MSE 0.434305858522368\n",
      "R2 0.32694291554133903\n",
      "-----------\n",
      "5.667734375\n",
      "rf\n",
      "MAE 0.414546875\n",
      "MSE 0.321944609375\n",
      "R2 0.5010725830861432\n",
      "-----------\n",
      "5.669162953086479\n",
      "gb\n",
      "MAE 0.43326228786470794\n",
      "MSE 0.3357576979937059\n",
      "R2 0.47966601679043097\n",
      "-----------\n"
     ]
    }
   ],
   "source": [
    "for name, model in fitted_model.items():\n",
    "    y_predict = model.predict(X_test)\n",
    "    print(y_predict.mean())\n",
    "    print(name)\n",
    "    print('MAE', mean_absolute_error(y_test, y_predict))\n",
    "    print('MSE', mean_squared_error(y_test, y_predict))\n",
    "    print('R2', r2_score(y_test, y_predict))\n",
    "    print('-----------')"
   ]
  },
  {
   "cell_type": "code",
   "execution_count": 115,
   "id": "93b3a856",
   "metadata": {},
   "outputs": [],
   "source": [
    "y_predict = np.round(fitted_model['rf'].predict(X_test))\n",
    "compare_df = pd.DataFrame({'y':y_test, 'y_predicted': y_predict})\n",
    "compare_df['error']=abs(compare_df.y_predicted-compare_df.y )"
   ]
  },
  {
   "cell_type": "code",
   "execution_count": 116,
   "id": "fed0371a",
   "metadata": {},
   "outputs": [
    {
     "data": {
      "text/plain": [
       "0.328125"
      ]
     },
     "execution_count": 116,
     "metadata": {},
     "output_type": "execute_result"
    }
   ],
   "source": [
    "compare_df.error.sum()/len(compare_df.error)"
   ]
  },
  {
   "cell_type": "code",
   "execution_count": 117,
   "id": "f1470eca",
   "metadata": {},
   "outputs": [
    {
     "data": {
      "text/html": [
       "<div>\n",
       "<style scoped>\n",
       "    .dataframe tbody tr th:only-of-type {\n",
       "        vertical-align: middle;\n",
       "    }\n",
       "\n",
       "    .dataframe tbody tr th {\n",
       "        vertical-align: top;\n",
       "    }\n",
       "\n",
       "    .dataframe thead th {\n",
       "        text-align: right;\n",
       "    }\n",
       "</style>\n",
       "<table border=\"1\" class=\"dataframe\">\n",
       "  <thead>\n",
       "    <tr style=\"text-align: right;\">\n",
       "      <th></th>\n",
       "      <th>y</th>\n",
       "      <th>y_predicted</th>\n",
       "      <th>error</th>\n",
       "    </tr>\n",
       "  </thead>\n",
       "  <tbody>\n",
       "    <tr>\n",
       "      <th>1175</th>\n",
       "      <td>6</td>\n",
       "      <td>6.0</td>\n",
       "      <td>0.0</td>\n",
       "    </tr>\n",
       "    <tr>\n",
       "      <th>419</th>\n",
       "      <td>5</td>\n",
       "      <td>5.0</td>\n",
       "      <td>0.0</td>\n",
       "    </tr>\n",
       "    <tr>\n",
       "      <th>200</th>\n",
       "      <td>7</td>\n",
       "      <td>6.0</td>\n",
       "      <td>1.0</td>\n",
       "    </tr>\n",
       "    <tr>\n",
       "      <th>440</th>\n",
       "      <td>8</td>\n",
       "      <td>6.0</td>\n",
       "      <td>2.0</td>\n",
       "    </tr>\n",
       "    <tr>\n",
       "      <th>1358</th>\n",
       "      <td>5</td>\n",
       "      <td>5.0</td>\n",
       "      <td>0.0</td>\n",
       "    </tr>\n",
       "    <tr>\n",
       "      <th>...</th>\n",
       "      <td>...</td>\n",
       "      <td>...</td>\n",
       "      <td>...</td>\n",
       "    </tr>\n",
       "    <tr>\n",
       "      <th>1270</th>\n",
       "      <td>6</td>\n",
       "      <td>7.0</td>\n",
       "      <td>1.0</td>\n",
       "    </tr>\n",
       "    <tr>\n",
       "      <th>1269</th>\n",
       "      <td>8</td>\n",
       "      <td>7.0</td>\n",
       "      <td>1.0</td>\n",
       "    </tr>\n",
       "    <tr>\n",
       "      <th>716</th>\n",
       "      <td>5</td>\n",
       "      <td>5.0</td>\n",
       "      <td>0.0</td>\n",
       "    </tr>\n",
       "    <tr>\n",
       "      <th>888</th>\n",
       "      <td>6</td>\n",
       "      <td>6.0</td>\n",
       "      <td>0.0</td>\n",
       "    </tr>\n",
       "    <tr>\n",
       "      <th>1484</th>\n",
       "      <td>4</td>\n",
       "      <td>5.0</td>\n",
       "      <td>1.0</td>\n",
       "    </tr>\n",
       "  </tbody>\n",
       "</table>\n",
       "<p>320 rows × 3 columns</p>\n",
       "</div>"
      ],
      "text/plain": [
       "      y  y_predicted  error\n",
       "1175  6          6.0    0.0\n",
       "419   5          5.0    0.0\n",
       "200   7          6.0    1.0\n",
       "440   8          6.0    2.0\n",
       "1358  5          5.0    0.0\n",
       "...  ..          ...    ...\n",
       "1270  6          7.0    1.0\n",
       "1269  8          7.0    1.0\n",
       "716   5          5.0    0.0\n",
       "888   6          6.0    0.0\n",
       "1484  4          5.0    1.0\n",
       "\n",
       "[320 rows x 3 columns]"
      ]
     },
     "execution_count": 117,
     "metadata": {},
     "output_type": "execute_result"
    }
   ],
   "source": [
    "compare_df"
   ]
  },
  {
   "cell_type": "markdown",
   "id": "8391d911",
   "metadata": {},
   "source": [
    "## beating the online one by tunning moe hyperparamenters and more models!\n",
    "https://elitedatascience.com/python-machine-learning-tutorial-scikit-learn\n",
    "## note they only reported MSE"
   ]
  },
  {
   "cell_type": "code",
   "execution_count": 119,
   "id": "f3440536",
   "metadata": {},
   "outputs": [],
   "source": [
    "import pickle\n",
    "with open('final_model.pkl', 'wb') as f:\n",
    "    pickle.dump(fitted_model['rf'], f)"
   ]
  }
 ],
 "metadata": {
  "kernelspec": {
   "display_name": "Python 3 (ipykernel)",
   "language": "python",
   "name": "python3"
  },
  "language_info": {
   "codemirror_mode": {
    "name": "ipython",
    "version": 3
   },
   "file_extension": ".py",
   "mimetype": "text/x-python",
   "name": "python",
   "nbconvert_exporter": "python",
   "pygments_lexer": "ipython3",
   "version": "3.9.7"
  }
 },
 "nbformat": 4,
 "nbformat_minor": 5
}
